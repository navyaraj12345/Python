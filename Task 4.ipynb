{
 "cells": [
  {
   "cell_type": "code",
   "execution_count": null,
   "metadata": {},
   "outputs": [],
   "source": [
    "difference()\n",
    "# Returns a set containing the difference between two or more sets.\n",
    "\n",
    "difference_update()\n",
    "# Removes the items in this set that are also includded, specified set.\n",
    "\n",
    "issubset()\n",
    "# Returns whether another set contains this set or not.\n",
    "\n",
    "issuperset()\n",
    "# Returns whether this set contains another set or not.\n",
    "\n",
    "symmetric_difference()\n",
    "# Returns a set with the symmetric differences of two sets.\n",
    "\n",
    "symmetric_difference_update()\n",
    "# Inserts the symmetric differences from this set and another.\n",
    "\n",
    "seek()\n",
    "# Change file position.\n",
    "\n",
    "truncate()\n",
    "# Resiszes a file to a specified size."
   ]
  }
 ],
 "metadata": {
  "kernelspec": {
   "display_name": "Python 3",
   "language": "python",
   "name": "python3"
  },
  "language_info": {
   "codemirror_mode": {
    "name": "ipython",
    "version": 3
   },
   "file_extension": ".py",
   "mimetype": "text/x-python",
   "name": "python",
   "nbconvert_exporter": "python",
   "pygments_lexer": "ipython3",
   "version": "3.7.1"
  }
 },
 "nbformat": 4,
 "nbformat_minor": 4
}
