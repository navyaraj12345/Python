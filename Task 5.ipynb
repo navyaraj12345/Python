{
 "cells": [
  {
   "cell_type": "code",
   "execution_count": 3,
   "metadata": {},
   "outputs": [
    {
     "name": "stdout",
     "output_type": "stream",
     "text": [
      "Enter Number10\n",
      "Enter Number12\n",
      "num1 10\n",
      "num2 12\n"
     ]
    }
   ],
   "source": [
    "#Ask 2 numbers from users and store it in num1 and num2\n",
    "\n",
    "num1 = input(\"Enter Number\")\n",
    "num2 = input(\"Enter Number\")\n",
    "print(\"num1\",num1)\n",
    "print(\"num2\",num2)\n"
   ]
  },
  {
   "cell_type": "code",
   "execution_count": 10,
   "metadata": {},
   "outputs": [
    {
     "name": "stdout",
     "output_type": "stream",
     "text": [
      "Enter First Number: 20\n",
      "Enter Second Number: 10\n",
      "Enter which operation?\n",
      "Enter any of these char for specific operation +,-,*,/: *\n",
      "20 * 10 : 3\n"
     ]
    }
   ],
   "source": [
    "#Ask user to press 1 for addition,2 for subtraction,3 for multiplication and 4 for division\n",
    "\n",
    "num1 = int(input(\"Enter First Number: \"))\n",
    "num2 = int(input(\"Enter Second Number: \"))\n",
    "\n",
    "print(\"Enter which operation?\")\n",
    "ch = input(\"Enter any of these char for specific operation +,-,*,/: \")\n",
    "\n",
    "if ch == '+':\n",
    "    result = 1\n",
    "elif ch == '-':\n",
    "    result = 2\n",
    "elif ch == '*':\n",
    "    result = 3\n",
    "elif ch == '/':\n",
    "    result = 4\n",
    "else:\n",
    "    print(\"Input character is not recognized!\")\n",
    "print(num1, ch , num2, \":\", result)"
   ]
  },
  {
   "cell_type": "code",
   "execution_count": 11,
   "metadata": {},
   "outputs": [
    {
     "name": "stdout",
     "output_type": "stream",
     "text": [
      "Enter First Number: 10\n",
      "Enter Second Number: 20\n",
      "Enter which operation?\n",
      "Enter any of these char for specific operation +,-,*,/: *\n",
      "10 * 20 : 200\n"
     ]
    }
   ],
   "source": [
    "#based on number given by user do the math operation\n",
    "num1 = int(input(\"Enter First Number: \"))\n",
    "num2 = int(input(\"Enter Second Number: \"))\n",
    "\n",
    "print(\"Enter which operation?\")\n",
    "ch = input(\"Enter any of these char for specific operation +,-,*,/: \")\n",
    "\n",
    "if ch == '+':\n",
    "    result = num1 + num2\n",
    "elif ch == '-':\n",
    "    result = num1 - num2\n",
    "elif ch == '*':\n",
    "    result = num1 * num2\n",
    "elif ch == '/':\n",
    "    result = num1 / num2\n",
    "else:\n",
    "    print(\"Input character is not recognized!\")\n",
    "\n",
    "print(num1, ch , num2, \":\", result)"
   ]
  },
  {
   "cell_type": "code",
   "execution_count": null,
   "metadata": {},
   "outputs": [],
   "source": []
  }
 ],
 "metadata": {
  "kernelspec": {
   "display_name": "Python 3",
   "language": "python",
   "name": "python3"
  },
  "language_info": {
   "codemirror_mode": {
    "name": "ipython",
    "version": 3
   },
   "file_extension": ".py",
   "mimetype": "text/x-python",
   "name": "python",
   "nbconvert_exporter": "python",
   "pygments_lexer": "ipython3",
   "version": "3.7.1"
  }
 },
 "nbformat": 4,
 "nbformat_minor": 4
}
