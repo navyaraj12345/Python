{
 "cells": [
  {
   "cell_type": "code",
   "execution_count": 1,
   "metadata": {},
   "outputs": [],
   "source": [
    "#Ask 2 numbers from users and store it in num1 and num2\n",
    "def number():\n",
    "    num1 = int(input(\"enter the number1:\"))\n",
    "    num2 = int(input(\"enter the number2:\"))\n",
    "    print(\"num1\",num1)\n",
    "    print(\"num2\",num2)"
   ]
  },
  {
   "cell_type": "code",
   "execution_count": 2,
   "metadata": {},
   "outputs": [
    {
     "name": "stdout",
     "output_type": "stream",
     "text": [
      "enter the number1:10\n",
      "enter the number2:12\n",
      "num1 10\n",
      "num2 12\n"
     ]
    }
   ],
   "source": [
    "number()"
   ]
  },
  {
   "cell_type": "code",
   "execution_count": 3,
   "metadata": {},
   "outputs": [
    {
     "name": "stdout",
     "output_type": "stream",
     "text": [
      "Enter First Number: 12\n",
      "Enter Second Number: 15\n",
      "Enter which operation?\n",
      "Enter any of these char for specific operation +,-,*,/: +\n",
      "12 + 15 : 1\n"
     ]
    }
   ],
   "source": [
    "#Ask user to press 1 for addition,2 for subtraction,3 for multiplication and 4 for division\n",
    "num1 = int(input(\"Enter First Number: \"))\n",
    "num2 = int(input(\"Enter Second Number: \"))\n",
    "\n",
    "print(\"Enter which operation?\")\n",
    "ch = input(\"Enter any of these char for specific operation +,-,*,/: \")\n",
    "\n",
    "if ch == '+':\n",
    "    result = 1\n",
    "elif ch == '-':\n",
    "    result = 2\n",
    "elif ch == '*':\n",
    "    result = 3\n",
    "elif ch == '/':\n",
    "    result = 4\n",
    "else:\n",
    "    print(\"Input character is not recognized!\")\n",
    "print(num1, ch , num2, \":\", result)"
   ]
  },
  {
   "cell_type": "code",
   "execution_count": 5,
   "metadata": {},
   "outputs": [],
   "source": [
    "#create 4 seperate functions for each operation (i.e. addition,subtraction,multiplication and division)\n",
    "#based on number given by user,call that perticular function and print the output\n",
    "def add():\n",
    "    x = int(input(\"enter the number1:\"))\n",
    "    y = int(input(\"enter the number2:\"))\n",
    "    z = x+y\n",
    "    print(z)\n",
    "def sub():\n",
    "    a = int(input(\"enter the number3:\"))\n",
    "    b = int(input(\"enter the number4:\"))\n",
    "    c = a-b\n",
    "    print(c)\n",
    "def product():\n",
    "    m = int(input(\"enter the number5:\"))\n",
    "    n = int(input(\"enter the number6:\"))\n",
    "    o = m*n\n",
    "    print(o)\n",
    "def division():\n",
    "    k = int(input(\"enter the number7:\"))\n",
    "    l = int(input(\"enter the number8:\"))\n",
    "    p = k/l\n",
    "    print(p)"
   ]
  },
  {
   "cell_type": "code",
   "execution_count": 6,
   "metadata": {},
   "outputs": [
    {
     "name": "stdout",
     "output_type": "stream",
     "text": [
      "enter the number1:10\n",
      "enter the number2:20\n",
      "30\n"
     ]
    }
   ],
   "source": [
    "add()"
   ]
  },
  {
   "cell_type": "code",
   "execution_count": 7,
   "metadata": {},
   "outputs": [
    {
     "name": "stdout",
     "output_type": "stream",
     "text": [
      "enter the number3:30\n",
      "enter the number4:20\n",
      "10\n"
     ]
    }
   ],
   "source": [
    "sub()"
   ]
  },
  {
   "cell_type": "code",
   "execution_count": 8,
   "metadata": {},
   "outputs": [
    {
     "name": "stdout",
     "output_type": "stream",
     "text": [
      "enter the number5:70\n",
      "enter the number6:14\n",
      "980\n"
     ]
    }
   ],
   "source": [
    "product()"
   ]
  },
  {
   "cell_type": "code",
   "execution_count": 9,
   "metadata": {},
   "outputs": [
    {
     "ename": "NameError",
     "evalue": "name 'divide' is not defined",
     "output_type": "error",
     "traceback": [
      "\u001b[1;31m---------------------------------------------------------------------------\u001b[0m",
      "\u001b[1;31mNameError\u001b[0m                                 Traceback (most recent call last)",
      "\u001b[1;32m<ipython-input-9-0adbd83d24fe>\u001b[0m in \u001b[0;36m<module>\u001b[1;34m\u001b[0m\n\u001b[1;32m----> 1\u001b[1;33m \u001b[0mdivide\u001b[0m\u001b[1;33m(\u001b[0m\u001b[1;33m)\u001b[0m\u001b[1;33m\u001b[0m\u001b[1;33m\u001b[0m\u001b[0m\n\u001b[0m",
      "\u001b[1;31mNameError\u001b[0m: name 'divide' is not defined"
     ]
    }
   ],
   "source": [
    "divi()"
   ]
  },
  {
   "cell_type": "code",
   "execution_count": null,
   "metadata": {},
   "outputs": [],
   "source": []
  }
 ],
 "metadata": {
  "kernelspec": {
   "display_name": "Python 3",
   "language": "python",
   "name": "python3"
  },
  "language_info": {
   "codemirror_mode": {
    "name": "ipython",
    "version": 3
   },
   "file_extension": ".py",
   "mimetype": "text/x-python",
   "name": "python",
   "nbconvert_exporter": "python",
   "pygments_lexer": "ipython3",
   "version": "3.7.1"
  }
 },
 "nbformat": 4,
 "nbformat_minor": 4
}
