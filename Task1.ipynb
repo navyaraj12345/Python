{
 "cells": [
  {
   "cell_type": "code",
   "execution_count": 1,
   "metadata": {},
   "outputs": [
    {
     "name": "stdout",
     "output_type": "stream",
     "text": [
      "enter the string:welcome to python\n",
      "enter the substring:to\n",
      "substring is present\n"
     ]
    }
   ],
   "source": [
    "str1 = input(\"enter the string:\")\n",
    "substr1 = input(\"enter the substring:\")\n",
    "if(substr1 in str1):\n",
    "    print(\"substring is present\")\n",
    "else:\n",
    "    print(\"substring is not present\")\n",
    "    "
   ]
  }
 ],
 "metadata": {
  "kernelspec": {
   "display_name": "Python 3",
   "language": "python",
   "name": "python3"
  },
  "language_info": {
   "codemirror_mode": {
    "name": "ipython",
    "version": 3
   },
   "file_extension": ".py",
   "mimetype": "text/x-python",
   "name": "python",
   "nbconvert_exporter": "python",
   "pygments_lexer": "ipython3",
   "version": "3.7.1"
  }
 },
 "nbformat": 4,
 "nbformat_minor": 4
}
